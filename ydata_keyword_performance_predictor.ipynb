{
 "cells": [
  {
   "cell_type": "markdown",
   "metadata": {},
   "source": [
    "# Keyphrase Performance Prediction for Search Engine Advertisers \n",
    "\n",
    "Search engine adversitsers bid for keyphrases based on keyword performance feedback and budget allocation for advertising. Keyword performance is defined by the rank, impressions and clicks received by the advertisement. This performance depends on several hidden factors such as Yahoo's evaluation of the advertisement, competitor bidding strategies and relevance of advertisement.In this project, we have designed a prediction model to estimate keyphrase performance for an advertiser based on 77 Million historical keyphrase performance data release by Yahoo! Webscope for 4-month window."
   ]
  },
  {
   "cell_type": "code",
   "execution_count": 108,
   "metadata": {
    "collapsed": false
   },
   "outputs": [],
   "source": [
    "import gzip\n",
    "import tarfile\n",
    "import pickle\n",
    "import operator\n",
    "import warnings\n",
    "import pandas as pd\n",
    "import numpy as np\n",
    "from collections import defaultdict\n",
    "import matplotlib.pyplot as plt\n",
    "\n",
    "from sklearn.linear_model import LinearRegression\n",
    "from sklearn.linear_model import Lasso\n",
    "from sklearn.linear_model import ElasticNet\n",
    "from sklearn.linear_model import (Ridge, TheilSenRegressor, RANSACRegressor, HuberRegressor)\n",
    "\n",
    "from sklearn.ensemble import (RandomForestRegressor, ExtraTreesRegressor, BaggingRegressor, AdaBoostRegressor, \n",
    "                              GradientBoostingRegressor)\n",
    "\n",
    "from sklearn.neighbors import (KNeighborsRegressor)\n",
    "from sklearn.tree import DecisionTreeRegressor\n",
    "\n",
    "from sklearn.cross_validation import KFold\n",
    "from sklearn.metrics import mean_absolute_error\n",
    "\n",
    "%matplotlib inline"
   ]
  },
  {
   "cell_type": "code",
   "execution_count": 4,
   "metadata": {
    "collapsed": true
   },
   "outputs": [],
   "source": [
    "# Disable warnings\n",
    "pd.options.mode.chained_assignment = None\n",
    "warnings.filterwarnings(\"ignore\", category=DeprecationWarning) "
   ]
  },
  {
   "cell_type": "markdown",
   "metadata": {},
   "source": [
    "## Data Scrapping and Formatting"
   ]
  },
  {
   "cell_type": "code",
   "execution_count": 85,
   "metadata": {
    "collapsed": false
   },
   "outputs": [],
   "source": [
    "ydata_df = pd.read_pickle('data8Keyphase.p')\n",
    "ydata_df['day'] = ydata_df['day'].astype('int') \n",
    "ydata_df['rank'] = ydata_df['rank'].astype('int')\n",
    "ydata_df['avg_bid'] = ydata_df['avg_bid'].astype('float')\n",
    "ydata_df['impr'] = ydata_df['impr'].astype('float')\n",
    "ydata_df['clicks'] = ydata_df['clicks'].astype('float')\n",
    "ydata_df['keyphrase'] = ydata_df.keyphrase.astype('str')"
   ]
  },
  {
   "cell_type": "markdown",
   "metadata": {},
   "source": [
    "========================================================================================================================="
   ]
  },
  {
   "cell_type": "markdown",
   "metadata": {
    "collapsed": true
   },
   "source": [
    "## Data Pruning Functions"
   ]
  },
  {
   "cell_type": "code",
   "execution_count": 10,
   "metadata": {
    "collapsed": true
   },
   "outputs": [],
   "source": [
    "def train_validate_test_split(df, train_percent=.6, validate_percent=.2, seed=None):\n",
    "    np.random.seed(3415)\n",
    "    perm = np.random.permutation(df.index)\n",
    "    m = len(df)\n",
    "    train_end = int(train_percent * m)\n",
    "    validate_end = int(validate_percent * m) + train_end\n",
    "    train = df.ix[perm[:train_end]]\n",
    "    validate = df.ix[perm[train_end:validate_end]]\n",
    "    test = df.ix[perm[validate_end:]]\n",
    "    return train, validate, test"
   ]
  },
  {
   "cell_type": "code",
   "execution_count": 11,
   "metadata": {
    "collapsed": true
   },
   "outputs": [],
   "source": [
    "# Remove datapoints with keyphrase having less than thresh competitors\n",
    "def filter_competitive_keyph(ydata_df, thresh):\n",
    "    keyph_dict = ydata_df['keyphrase'].value_counts().to_dict()\n",
    "    comp_keyph = []\n",
    "    for key in keyph_dict.keys():\n",
    "        if keyph_dict[key] > thresh:\n",
    "            comp_keyph.append(key)\n",
    "    ydata_df = ydata_df[ydata_df['keyphrase'].isin(comp_keyph)]\n",
    "    return ydata_df"
   ]
  },
  {
   "cell_type": "code",
   "execution_count": 12,
   "metadata": {
    "collapsed": false
   },
   "outputs": [],
   "source": [
    "# Remove datapoints with advertisers whose bid value remains fixed for a keyphrase\n",
    "def filter_fixed_bidders(ydata_df, thresh):\n",
    "    bidders = ydata_df['account_id'].unique()\n",
    "    pulse_bidder = pd.DataFrame()\n",
    "    for b in bidders:\n",
    "        df = ydata_df[ydata_df['account_id'] == b]\n",
    "        if df.avg_bid.std(axis=0) > thresh:\n",
    "            pulse_bidder = pulse_bidder.append(df)\n",
    "    return pulse_bidder"
   ]
  },
  {
   "cell_type": "markdown",
   "metadata": {},
   "source": [
    "============================================================================================"
   ]
  },
  {
   "cell_type": "markdown",
   "metadata": {},
   "source": [
    "# Filter Dataset"
   ]
  },
  {
   "cell_type": "code",
   "execution_count": 87,
   "metadata": {
    "collapsed": false
   },
   "outputs": [],
   "source": [
    "competitive_ydata_df = filter_competitive_keyph(ydata_df, 20)\n",
    "ydata = filter_fixed_bidders(competitive_ydata_df, 0.01)\n",
    "ydata_acc_kp = ydata.groupby(['account_id','keyphrase'])\n",
    "ydata = ydata.sort_values(by='day')"
   ]
  },
  {
   "cell_type": "markdown",
   "metadata": {},
   "source": [
    "======================================================================================================="
   ]
  },
  {
   "cell_type": "markdown",
   "metadata": {},
   "source": [
    "# Data Manipulation"
   ]
  },
  {
   "cell_type": "code",
   "execution_count": null,
   "metadata": {
    "collapsed": true
   },
   "outputs": [],
   "source": [
    "Ydata = ydata\n",
    "ygrouped = Ydata.groupby(['account_id','keyphrase', 'day'])\n",
    "days = Ydata['day'].unique()\n",
    "accounts = Ydata['account_id'].unique()\n",
    "account_kp = defaultdict(list)\n",
    "for adv in accounts:\n",
    "    account_kp[adv] = Ydata[Ydata['account_id']==adv]['keyphrase'].unique()"
   ]
  },
  {
   "cell_type": "code",
   "execution_count": null,
   "metadata": {
    "collapsed": false
   },
   "outputs": [],
   "source": [
    "ysqueeze = pd.DataFrame()\n",
    "olist = []\n",
    "for day in days:\n",
    "    y_day = Ydata[(Ydata['day']==day)]\n",
    "    for adv in account_kp.keys():\n",
    "        y_adv = y_day[(y_day['account_id']==adv)]\n",
    "        for kp in account_kp[adv]:\n",
    "            data_pt = []\n",
    "            y_ackp = y_adv[(y_adv['keyphrase']==kp)]\n",
    "            if y_ackp.empty:\n",
    "                continue\n",
    "            data_pt.append(day)  # day\n",
    "            data_pt.append(adv) # account_id\n",
    "            data_pt.append(kp) # key_phrase\n",
    "            data_pt.append(y_ackp['avg_bid'].mean()) # avg_bid mean\n",
    "            data_pt.append(y_ackp['avg_bid'].max()) # avg_bid max\n",
    "            data_pt.append(y_ackp['avg_bid'].min()) # avg_bid min\n",
    "            data_pt.append(y_ackp['avg_bid'].std()) # avg_bid std\n",
    "            data_pt.append(y_ackp['impr'].sum()) # impr sum\n",
    "            data_pt.append(y_ackp['impr'].max()) # impr max\n",
    "            data_pt.append(y_ackp['impr'].min()) # impr min\n",
    "            data_pt.append(y_ackp['impr'].std()) # impr std\n",
    "            data_pt.append(y_ackp['clicks'].sum()) # clicks sum\n",
    "            data_pt.append(y_ackp['clicks'].max()) # clicks max\n",
    "            data_pt.append(y_ackp['clicks'].min()) # clicks min\n",
    "            data_pt.append(y_ackp['clicks'].std()) # clicks std\n",
    "            data_pt.append((y_ackp['impr'].sum()) * (1.0/(y_ackp['impr']/y_ackp['rank']).sum())) # Weighted (inv) mean of rank\n",
    "            data_pt.append(y_ackp['rank'].max()) # Max rank\n",
    "            data_pt.append(y_ackp['rank'].min()) # Min rank\n",
    "            data_pt.append(y_ackp['rank'].std()) # Rank std\n",
    "            olist.append(data_pt)\n",
    "ysqueeze = pd.DataFrame(olist, columns=['day', 'account_id', 'keyphrase', 'avg_bid', 'avg_bid_max', \n",
    "                                        'avg_bid_min', 'avg_bid_std','impr', 'impr_max', 'impr_min', \n",
    "                                        'impr_std', 'clicks', 'clicks_max', 'clicks_min','clicks_std', \n",
    "                                        'rank', 'rank_max', 'rank_min', 'rank_std'])\n"
   ]
  },
  {
   "cell_type": "code",
   "execution_count": null,
   "metadata": {
    "collapsed": false
   },
   "outputs": [],
   "source": [
    "ysqueeze.to_pickle('ysqueezed_topKp.pkl')"
   ]
  },
  {
   "cell_type": "markdown",
   "metadata": {},
   "source": [
    "======================================================================================================================="
   ]
  },
  {
   "cell_type": "markdown",
   "metadata": {},
   "source": [
    "## Feature Functions "
   ]
  },
  {
   "cell_type": "code",
   "execution_count": 8,
   "metadata": {
    "collapsed": true
   },
   "outputs": [],
   "source": [
    "def avg_bid_lastmonth(adv, keyph, day, ydata_df):\n",
    "    hist_adv = ydata_df[(ydata_df['account_id']==adv) & (ydata_df['keyphrase']==keyph) & (ydata_df['day']<day)]\n",
    "    return hist_adv"
   ]
  },
  {
   "cell_type": "code",
   "execution_count": 9,
   "metadata": {
    "collapsed": true
   },
   "outputs": [],
   "source": [
    "def mean_adv_rank(row):\n",
    "    if row['account_id'] in countAccKey and row['keyphrase'] in countAccKey[row['account_id']]:\n",
    "        prevCount = countAccKey[row['account_id']][row['keyphrase']]\n",
    "        prevMeanRank = meanRank[row['account_id']][row['keyphrase']]\n",
    "    else:\n",
    "        prevCount = 0\n",
    "        countAccKey[row['account_id']][row['keyphrase']] = 0\n",
    "        meanRank[row['account_id']][row['keyphrase']] = row['rank']\n",
    "        prevMeanRank = 0\n",
    "    countAccKey[row['account_id']][row['keyphrase']]+=1\n",
    "    meanRank[row['account_id']][row['keyphrase']] = \\\n",
    "    (meanRank[row['account_id']][row['keyphrase']]*prevCount+row['rank'])/countAccKey[row['account_id']][row['keyphrase']]\n",
    "\n",
    "    return prevMeanRank"
   ]
  },
  {
   "cell_type": "code",
   "execution_count": 10,
   "metadata": {
    "collapsed": true
   },
   "outputs": [],
   "source": [
    "def mean_adv_impr(row):\n",
    "    if row['account_id'] in countAccKey and row['keyphrase'] in countAccKey[row['account_id']]:\n",
    "        prevCount = countAccKey[row['account_id']][row['keyphrase']]\n",
    "        countAccKey[row['account_id']][row['keyphrase']]+=1\n",
    "    else:\n",
    "        prevCount = 0\n",
    "        countAccKey[row['account_id']][row['keyphrase']] = 1\n",
    "        meanImpr[row['account_id']][row['keyphrase']] = row['impr']\n",
    "    meanImpr[row['account_id']][row['keyphrase']] = \\\n",
    "    (meanImpr[row['account_id']][row['keyphrase']]*prevCount+row['impr'])/countAccKey[row['account_id']][row['keyphrase']]\n",
    "\n",
    "    return meanImpr[row['account_id']][row['keyphrase']]"
   ]
  },
  {
   "cell_type": "code",
   "execution_count": 11,
   "metadata": {
    "collapsed": true
   },
   "outputs": [],
   "source": [
    "def mean_adv_click(row):\n",
    "    if row['account_id'] in countAccKey and row['keyphrase'] in countAccKey[row['account_id']]:\n",
    "        prevCount = countAccKey[row['account_id']][row['keyphrase']]\n",
    "        countAccKey[row['account_id']][row['keyphrase']]+=1\n",
    "    else:\n",
    "        prevCount = 0\n",
    "        countAccKey[row['account_id']][row['keyphrase']] = 1\n",
    "        meanClick[row['account_id']][row['keyphrase']] = row['clicks']\n",
    "    meanClick[row['account_id']][row['keyphrase']] = \\\n",
    "    (meanClick[row['account_id']][row['keyphrase']]*prevCount+row['clicks'])/countAccKey[row['account_id']][row['keyphrase']]\n",
    "\n",
    "    return meanClick[row['account_id']][row['keyphrase']]"
   ]
  },
  {
   "cell_type": "code",
   "execution_count": 12,
   "metadata": {
    "collapsed": true
   },
   "outputs": [],
   "source": [
    "def mean_adv_bid(row):\n",
    "    if row['account_id'] in countAccKey and row['keyphrase'] in countAccKey[row['account_id']]:\n",
    "        prevCount = countAccKey[row['account_id']][row['keyphrase']]\n",
    "        countAccKey[row['account_id']][row['keyphrase']]+=1\n",
    "    else:\n",
    "        prevCount = 0\n",
    "        countAccKey[row['account_id']][row['keyphrase']] = 1\n",
    "        meanBid[row['account_id']][row['keyphrase']] = row['avg_bid']\n",
    "    meanBid[row['account_id']][row['keyphrase']] = \\\n",
    "    (meanBid[row['account_id']][row['keyphrase']]*prevCount+row['avg_bid'])/countAccKey[row['account_id']][row['keyphrase']]\n",
    "\n",
    "    return meanBid[row['account_id']][row['keyphrase']]"
   ]
  },
  {
   "cell_type": "code",
   "execution_count": 13,
   "metadata": {
    "collapsed": true
   },
   "outputs": [],
   "source": [
    "def std_adv_rank(row):\n",
    "    if row['account_id'] in countAccKey and row['keyphrase'] in countAccKey[row['account_id']]:\n",
    "        prevCount = countAccKey[row['account_id']][row['keyphrase']]\n",
    "        prevMeanRank = meanRank[row['account_id']][row['keyphrase']]\n",
    "    else:\n",
    "        prevCount = 0\n",
    "        countAccKey[row['account_id']][row['keyphrase']] = 0\n",
    "        meanRank[row['account_id']][row['keyphrase']] = row['rank']\n",
    "        prevMeanRank = 0\n",
    "    countAccKey[row['account_id']][row['keyphrase']]+=1\n",
    "    sdRank = (((row['rank'] - prevMeanRank)**2)/countAccKey[row['account_id']][row['keyphrase']])**(1/2)\n",
    "    meanRank[row['account_id']][row['keyphrase']] = \\\n",
    "    (meanRank[row['account_id']][row['keyphrase']]*prevCount+row['rank'])/countAccKey[row['account_id']][row['keyphrase']]\n",
    "    return sdRank"
   ]
  },
  {
   "cell_type": "code",
   "execution_count": 14,
   "metadata": {
    "collapsed": true
   },
   "outputs": [],
   "source": [
    "def std_adv_impr(row):\n",
    "    if row['account_id'] in countAccKey and row['keyphrase'] in countAccKey[row['account_id']]:\n",
    "        prevCount = countAccKey[row['account_id']][row['keyphrase']]\n",
    "        countAccKey[row['account_id']][row['keyphrase']]+=1\n",
    "    else:\n",
    "        prevCount = 0\n",
    "        countAccKey[row['account_id']][row['keyphrase']] = 1\n",
    "        meanImpr[row['account_id']][row['keyphrase']] = row['impr']\n",
    "    meanImpr[row['account_id']][row['keyphrase']] = \\\n",
    "    (meanImpr[row['account_id']][row['keyphrase']]*prevCount+row['impr'])/countAccKey[row['account_id']][row['keyphrase']]\n",
    "    sdImpr = (((row['impr'] - meanImpr[row['account_id']][row['keyphrase']])**2)/countAccKey[row['account_id']][row['keyphrase']])**(1/2)\n",
    "    return sdImpr"
   ]
  },
  {
   "cell_type": "code",
   "execution_count": 15,
   "metadata": {
    "collapsed": true
   },
   "outputs": [],
   "source": [
    "def std_adv_click(row):\n",
    "    if row['account_id'] in countAccKey and row['keyphrase'] in countAccKey[row['account_id']]:\n",
    "        prevCount = countAccKey[row['account_id']][row['keyphrase']]\n",
    "        countAccKey[row['account_id']][row['keyphrase']]+=1\n",
    "    else:\n",
    "        prevCount = 0\n",
    "        countAccKey[row['account_id']][row['keyphrase']] = 1\n",
    "        meanClick[row['account_id']][row['keyphrase']] = row['clicks']\n",
    "    meanClick[row['account_id']][row['keyphrase']] = \\\n",
    "    (meanClick[row['account_id']][row['keyphrase']]*prevCount+row['clicks'])/countAccKey[row['account_id']][row['keyphrase']]\n",
    "    sdClicks = (((row['clicks'] - meanClick[row['account_id']][row['keyphrase']])**2)/countAccKey[row['account_id']][row['keyphrase']])**(1/2)\n",
    "    return sdClicks"
   ]
  },
  {
   "cell_type": "code",
   "execution_count": 16,
   "metadata": {
    "collapsed": true
   },
   "outputs": [],
   "source": [
    "def pulsing_strength(row):\n",
    "    if row['account_id'] in countAccKey and row['keyphrase'] in countAccKey[row['account_id']]:\n",
    "        prevCount = countAccKey[row['account_id']][row['keyphrase']]\n",
    "        countAccKey[row['account_id']][row['keyphrase']]+=1\n",
    "        prevBidMean = meanBid[row['account_id']][row['keyphrase']]\n",
    "        prevBid = prevBidDict[row['account_id']][row['keyphrase']]\n",
    "    else:\n",
    "        prevCount = 0\n",
    "        countAccKey[row['account_id']][row['keyphrase']] = 1\n",
    "        meanBid[row['account_id']][row['keyphrase']] = row['avg_bid']\n",
    "        prevBidMean = 0\n",
    "        prevBid = 0\n",
    "        \n",
    "    prevBidDict[row['account_id']][row['keyphrase']] = row['avg_bid']\n",
    "    meanBid[row['account_id']][row['keyphrase']] = \\\n",
    "    (meanBid[row['account_id']][row['keyphrase']]*prevCount+row['avg_bid'])/countAccKey[row['account_id']][row['keyphrase']]\n",
    "    diff = row['avg_bid']- prevBid\n",
    "\n",
    "    return (diff)*(1./meanBid[row['account_id']][row['keyphrase']])"
   ]
  },
  {
   "cell_type": "code",
   "execution_count": 17,
   "metadata": {
    "collapsed": true
   },
   "outputs": [],
   "source": [
    "def prev_rank(row):\n",
    "    if row['account_id'] in prevRank and row['keyphrase'] in prevRank[row['account_id']]:\n",
    "        prev_rank = prevRank[row['account_id']][row['keyphrase']]\n",
    "    else:\n",
    "        prev_rank = 0\n",
    "    prevRank[row['account_id']][row['keyphrase']] = row['rank']\n",
    "    return prev_rank"
   ]
  },
  {
   "cell_type": "markdown",
   "metadata": {},
   "source": [
    "======================================================================================================================="
   ]
  },
  {
   "cell_type": "markdown",
   "metadata": {},
   "source": [
    "# Load Modified DataFrame"
   ]
  },
  {
   "cell_type": "code",
   "execution_count": 18,
   "metadata": {
    "collapsed": false
   },
   "outputs": [],
   "source": [
    "ydata = pd.read_pickle('ysqueezed_topKp_prot2.pkl')"
   ]
  },
  {
   "cell_type": "markdown",
   "metadata": {},
   "source": [
    "# Extract Features "
   ]
  },
  {
   "cell_type": "code",
   "execution_count": 19,
   "metadata": {
    "collapsed": false
   },
   "outputs": [],
   "source": [
    "# Mean rank of advertiser/keyphrase pair in history\n",
    "from collections import defaultdict\n",
    "meanRank = defaultdict(dict)\n",
    "countAccKey = defaultdict(dict)\n",
    "ydata['mean_rank'] = ydata.apply(lambda row: mean_adv_rank(row), axis=1)"
   ]
  },
  {
   "cell_type": "code",
   "execution_count": 20,
   "metadata": {
    "collapsed": true
   },
   "outputs": [],
   "source": [
    "# Mean impression of advertiser/keyphrase pair in history\n",
    "meanImpr = defaultdict(dict)\n",
    "countAccKey = defaultdict(dict)\n",
    "ydata['mean_impr'] = ydata.apply(lambda row: mean_adv_impr(row), axis=1)"
   ]
  },
  {
   "cell_type": "code",
   "execution_count": 21,
   "metadata": {
    "collapsed": false
   },
   "outputs": [],
   "source": [
    "# Mean click count of advertiser/keyphrase pair in history\n",
    "meanClick = defaultdict(dict)\n",
    "countAccKey = defaultdict(dict)\n",
    "ydata['mean_click'] = ydata.apply(lambda row: mean_adv_click(row), axis=1)"
   ]
  },
  {
   "cell_type": "code",
   "execution_count": 22,
   "metadata": {
    "collapsed": true
   },
   "outputs": [],
   "source": [
    "# Standard deviation in rank of advertiser/keyphrase pair in history\n",
    "meanRank = defaultdict(dict)\n",
    "countAccKey = defaultdict(dict)\n",
    "ydata['std_rank'] = ydata.apply(lambda row: std_adv_rank(row), axis=1)"
   ]
  },
  {
   "cell_type": "code",
   "execution_count": 23,
   "metadata": {
    "collapsed": true
   },
   "outputs": [],
   "source": [
    "# Standard deviation in impression of advertiser/keyphrase pair in history\n",
    "meanImpr = defaultdict(dict)\n",
    "countAccKey = defaultdict(dict)\n",
    "ydata['std_impr'] = ydata.apply(lambda row: std_adv_impr(row), axis=1)"
   ]
  },
  {
   "cell_type": "code",
   "execution_count": 24,
   "metadata": {
    "collapsed": true
   },
   "outputs": [],
   "source": [
    "# Standard deviation in click of advertiser/keyphrase pair in history\n",
    "meanClick = defaultdict(dict)\n",
    "countAccKey = defaultdict(dict)\n",
    "ydata['std_click'] = ydata.apply(lambda row: std_adv_click(row), axis=1)"
   ]
  },
  {
   "cell_type": "code",
   "execution_count": 25,
   "metadata": {
    "collapsed": false
   },
   "outputs": [],
   "source": [
    "# Standard deviation in click of advertiser/keyphrase pair in history\n",
    "meanBid = defaultdict(dict)\n",
    "countAccKey = defaultdict(dict)\n",
    "ydata['mean_bid'] = ydata.apply(lambda row: mean_adv_bid(row), axis=1)"
   ]
  },
  {
   "cell_type": "code",
   "execution_count": 26,
   "metadata": {
    "collapsed": false
   },
   "outputs": [],
   "source": [
    "# Pulsing Strength\n",
    "prevBidDict = defaultdict(dict)\n",
    "meanBid = defaultdict(dict)\n",
    "countAccKey = defaultdict(dict)\n",
    "ydata['pulsing_strength'] = ydata.apply(lambda row: pulsing_strength(row), axis=1)"
   ]
  },
  {
   "cell_type": "code",
   "execution_count": 27,
   "metadata": {
    "collapsed": true
   },
   "outputs": [],
   "source": [
    "# Prev Day Rank\n",
    "prevRank = defaultdict(dict)\n",
    "ydata['prev_rank'] = ydata.apply(lambda row: prev_rank(row), axis=1)"
   ]
  },
  {
   "cell_type": "code",
   "execution_count": 28,
   "metadata": {
    "collapsed": true
   },
   "outputs": [],
   "source": [
    "# Compute Click through rate\n",
    "ydata['CTR'] = ydata.apply(lambda row: row['clicks']/row['impr'], axis=1)"
   ]
  },
  {
   "cell_type": "code",
   "execution_count": 224,
   "metadata": {
    "collapsed": true
   },
   "outputs": [],
   "source": [
    "# Number of keywords in keyphrase\n",
    "ydata['num_keywords'] = ydata.apply(lambda row: len(row['keyphrase'].split()), axis=1)"
   ]
  },
  {
   "cell_type": "code",
   "execution_count": 225,
   "metadata": {
    "collapsed": true
   },
   "outputs": [],
   "source": [
    "# Number of competitors for keyphrase\n",
    "kp_comp_count = ydata.groupby('keyphrase').count()\n",
    "ydata['num_keyphrase_competitors'] = ydata.apply(lambda row: kp_comp_count['day'][row['keyphrase']], axis=1)"
   ]
  },
  {
   "cell_type": "code",
   "execution_count": 298,
   "metadata": {
    "collapsed": true
   },
   "outputs": [],
   "source": [
    "# Deviation from average bid for keyphrase\n",
    "kp_comp_mean = ydata.groupby('keyphrase').mean()\n",
    "ydata['keyphrase_bid_deviation'] = ydata.apply(lambda row: (row['avg_bid'] - kp_comp_mean['avg_bid'][row['keyphrase']])**2, \n",
    "                                               axis=1)"
   ]
  },
  {
   "cell_type": "code",
   "execution_count": 299,
   "metadata": {
    "collapsed": false
   },
   "outputs": [],
   "source": [
    "# Fill NaN with mean values\n",
    "ydata['mean_rank'].fillna((ydata['mean_rank'].mean()), inplace=True)\n",
    "ydata['mean_impr'].fillna((ydata['mean_impr'].mean()), inplace=True)\n",
    "ydata['mean_click'].fillna((ydata['mean_click'].mean()), inplace=True)\n",
    "ydata['std_rank'].fillna((ydata['std_rank'].mean()), inplace=True)\n",
    "ydata['mean_bid'].fillna((ydata['mean_bid'].mean()), inplace=True)\n",
    "ydata['pulsing_strength'].fillna((ydata['pulsing_strength'].mean()), inplace=True)\n",
    "ydata['avg_bid_std'].fillna((ydata['avg_bid_std'].mean()), inplace=True)\n",
    "ydata['impr_std'].fillna((ydata['impr_std'].mean()), inplace=True)\n",
    "ydata['clicks_std'].fillna((ydata['clicks_std'].mean()), inplace=True)\n",
    "ydata['rank_std'].fillna((ydata['rank_std'].mean()), inplace=True)"
   ]
  },
  {
   "cell_type": "code",
   "execution_count": 300,
   "metadata": {
    "collapsed": false
   },
   "outputs": [],
   "source": [
    "# Store Feature Model to pickle\n",
    "ydata.to_pickle('kp_performance_df.pkl')"
   ]
  },
  {
   "cell_type": "code",
   "execution_count": 230,
   "metadata": {
    "collapsed": true
   },
   "outputs": [],
   "source": [
    "ydata = pd.read_pickle('kp_performance_df.pkl')"
   ]
  },
  {
   "cell_type": "markdown",
   "metadata": {},
   "source": [
    "# Data Categorization"
   ]
  },
  {
   "cell_type": "code",
   "execution_count": 269,
   "metadata": {
    "collapsed": false
   },
   "outputs": [
    {
     "data": {
      "text/plain": [
       "aef4ee042bea9c6b fc4f04e287746c48                     34165\n",
       "aef4ee042bea9c6b fc4f04e287746c48 324ac734097de5e4    20737\n",
       "aef4ee042bea9c6b dbeabaf7b12face3 fc4f04e287746c48    13425\n",
       "aef4ee042bea9c6b ac26bfe54a8a8f38 fc4f04e287746c48    12892\n",
       "ef28801548f374f9 3db691494440189b                      7369\n",
       "3db691494440189b                                       7127\n",
       "88137a89999fc4c6 3db691494440189b                      6312\n",
       "3db691494440189b a6a0665e425a2fbb                      5851\n",
       "Name: keyphrase, dtype: int64"
      ]
     },
     "execution_count": 269,
     "metadata": {},
     "output_type": "execute_result"
    }
   ],
   "source": [
    "ydata['keyphrase'].unique()"
   ]
  },
  {
   "cell_type": "markdown",
   "metadata": {},
   "source": [
    "# Build Feature Vector"
   ]
  },
  {
   "cell_type": "code",
   "execution_count": 301,
   "metadata": {
    "collapsed": true
   },
   "outputs": [],
   "source": [
    "predictors = [\"avg_bid\", \n",
    "              \"mean_rank\", \n",
    "              \"mean_impr\", \n",
    "              \"mean_click\",\n",
    "              \"mean_bid\",\n",
    "              \"pulsing_strength\",\n",
    "              \"avg_bid_max\",\n",
    "              \"avg_bid_min\",\n",
    "              \"avg_bid_std\",\n",
    "              \"prev_rank\",\n",
    "              \"num_keywords\",\n",
    "              \"num_keyphrase_competitors\",\n",
    "              \"keyphrase_bid_deviation\"\n",
    "             ]"
   ]
  },
  {
   "cell_type": "markdown",
   "metadata": {},
   "source": [
    "# Split Train, Validation and Test"
   ]
  },
  {
   "cell_type": "code",
   "execution_count": 302,
   "metadata": {
    "collapsed": false
   },
   "outputs": [],
   "source": [
    "ydata['bias'] = 1\n",
    "Ydata = ydata.copy(deep=True)\n",
    "Ydata['keyphrase_bid_deviation'] = np.log(Ydata['keyphrase_bid_deviation'])"
   ]
  },
  {
   "cell_type": "code",
   "execution_count": 303,
   "metadata": {
    "collapsed": true
   },
   "outputs": [],
   "source": [
    "ydata_train = Ydata[ydata['day'] < 100]\n",
    "ydata_valid = Ydata[ydata['day'] >= 100]"
   ]
  },
  {
   "cell_type": "markdown",
   "metadata": {},
   "source": [
    "# Build Model and Evaluate"
   ]
  },
  {
   "cell_type": "code",
   "execution_count": 284,
   "metadata": {
    "collapsed": false
   },
   "outputs": [],
   "source": [
    "alg_rank_arr = pd.DataFrame()\n",
    "alg_rank_arr['index'] = np.arange(8)\n",
    "alg_rank_arr.index = ydata['keyphrase'].unique()\n",
    "rank_model = [LinearRegression()]*8"
   ]
  },
  {
   "cell_type": "markdown",
   "metadata": {},
   "source": [
    "### Rank Prediction"
   ]
  },
  {
   "cell_type": "code",
   "execution_count": 304,
   "metadata": {
    "collapsed": false
   },
   "outputs": [],
   "source": [
    "alg_rank = LinearRegression()\n",
    "# alg_rank = Lasso(alpha=0.1)\n",
    "# alg_rank = ElasticNet(alpha=0.09, l1_ratio=0.7)\n",
    "# alg_rank = TheilSenRegressor(random_state=42)\n",
    "# alg_rank = HuberRegressor()\n",
    "# alg_rank = RANSACRegressor(random_state=42)\n",
    "# alg_rank = Ridge(alpha=1.0)\n",
    "# alg_rank = RandomForestRegressor(random_state=0, n_estimators=100)\n",
    "# alg_rank = ExtraTreesRegressor(n_estimators=10, max_features=10,random_state=0)\n",
    "# alg_rank = KNeighborsRegressor()\n",
    "# alg_rank = DecisionTreeRegressor()\n",
    "# alg_rank = BaggingRegressor(DecisionTreeRegressor())\n",
    "# rng = np.random.RandomState(1)\n",
    "# alg_rank = AdaBoostRegressor(DecisionTreeRegressor(max_depth=4),n_estimators=300, random_state=rng)\n",
    "# alg_rank = GradientBoostingRegressor(n_estimators=500, max_depth=4, min_samples_split=2, learning_rate=0.01, loss= 'ls')"
   ]
  },
  {
   "cell_type": "code",
   "execution_count": 305,
   "metadata": {
    "collapsed": false
   },
   "outputs": [
    {
     "data": {
      "text/plain": [
       "LinearRegression(copy_X=True, fit_intercept=True, n_jobs=1, normalize=False)"
      ]
     },
     "execution_count": 305,
     "metadata": {},
     "output_type": "execute_result"
    }
   ],
   "source": [
    "alg_rank.fit(ydata_train[predictors], ydata_train['rank'])"
   ]
  },
  {
   "cell_type": "code",
   "execution_count": 306,
   "metadata": {
    "collapsed": false
   },
   "outputs": [],
   "source": [
    "predictions_rank = alg_rank.predict(ydata_valid[predictors])"
   ]
  },
  {
   "cell_type": "code",
   "execution_count": 308,
   "metadata": {
    "collapsed": false
   },
   "outputs": [
    {
     "name": "stdout",
     "output_type": "stream",
     "text": [
      "Mean Absolute Error : 2.64387138959\n"
     ]
    }
   ],
   "source": [
    "mae_rank = mean_absolute_error(ydata_valid['rank'], predictions_rank)\n",
    "print (\"Mean Absolute Error : \" + str(mae_rank))"
   ]
  },
  {
   "cell_type": "code",
   "execution_count": 313,
   "metadata": {
    "collapsed": false
   },
   "outputs": [],
   "source": [
    "# for kp in ydata['keyphrase'].unique():\n",
    "#     ykp_train =  ydata_train[ydata_train['keyphrase'] == kp]\n",
    "#     ykp_valid =  ydata_valid[ydata_valid['keyphrase'] == kp]\n",
    "#     alg_rank = GradientBoostingRegressor(n_estimators=500, max_depth=4, min_samples_split=2, learning_rate=0.01, loss= 'ls')\n",
    "#     alg_rank.fit(ykp_train[predictors], ykp_train['rank'])\n",
    "#     predictions_rank = alg_rank.predict(ykp_valid[predictors])\n",
    "#     mae_rank = mean_absolute_error(ykp_valid['rank'], predictions_rank)\n",
    "#     print (\"Keyphrase : \" + str(kp))\n",
    "#     print (\"Mean Absolute Error : \" + str(mae_rank))\n",
    "#     print \"\\n\\n\""
   ]
  },
  {
   "cell_type": "markdown",
   "metadata": {},
   "source": [
    "### Impression Prediction"
   ]
  },
  {
   "cell_type": "code",
   "execution_count": 206,
   "metadata": {
    "collapsed": true
   },
   "outputs": [],
   "source": [
    "# alg_impr = LinearRegression()\n",
    "# alg_impr = Lasso(alpha=0.07)\n",
    "# alg_impr = ElasticNet(alpha=0.09, l1_ratio=0.7)\n",
    "# alg_impr = TheilSenRegressor(random_state=42)\n",
    "# alg_impr = HuberRegressor()\n",
    "# alg_impr = RANSACRegressor(random_state=42)\n",
    "# alg_impr = Ridge(alpha=1.0)\n",
    "# alg_impr = RandomForestRegressor(random_state=0, n_estimators=100)\n",
    "# alg_impr = ExtraTreesRegressor(n_estimators=10, max_features=10,random_state=0)\n",
    "# alg_impr = KNeighborsRegressor()\n",
    "# alg_impr = DecisionTreeRegressor()\n",
    "# alg_impr = BaggingRegressor(DecisionTreeRegressor())\n",
    "# alg_impr = AdaBoostRegressor(DecisionTreeRegressor(max_depth=4),n_estimators=300, random_state=rng)\n",
    "alg_impr = GradientBoostingRegressor(n_estimators=500, max_depth=4, min_samples_split=2, learning_rate=0.01, loss= 'ls')"
   ]
  },
  {
   "cell_type": "code",
   "execution_count": 207,
   "metadata": {
    "collapsed": false
   },
   "outputs": [
    {
     "data": {
      "text/plain": [
       "GradientBoostingRegressor(alpha=0.9, criterion='friedman_mse', init=None,\n",
       "             learning_rate=0.01, loss='ls', max_depth=4, max_features=None,\n",
       "             max_leaf_nodes=None, min_impurity_split=1e-07,\n",
       "             min_samples_leaf=1, min_samples_split=2,\n",
       "             min_weight_fraction_leaf=0.0, n_estimators=500,\n",
       "             presort='auto', random_state=None, subsample=1.0, verbose=0,\n",
       "             warm_start=False)"
      ]
     },
     "execution_count": 207,
     "metadata": {},
     "output_type": "execute_result"
    }
   ],
   "source": [
    "alg_impr.fit(ydata_train[predictors], ydata_train['impr'])"
   ]
  },
  {
   "cell_type": "code",
   "execution_count": 267,
   "metadata": {
    "collapsed": false
   },
   "outputs": [],
   "source": [
    "predictions_impr = alg_impr.predict(ydata_valid[predictors])"
   ]
  },
  {
   "cell_type": "code",
   "execution_count": null,
   "metadata": {
    "collapsed": false
   },
   "outputs": [],
   "source": [
    "mae_impr = mean_absolute_error(ydata_valid['impr'], predictions_impr)\n",
    "print (\"Mean Absolute Error : \" + str(mae_impr))"
   ]
  },
  {
   "cell_type": "markdown",
   "metadata": {},
   "source": [
    "### Click Prediction"
   ]
  },
  {
   "cell_type": "code",
   "execution_count": 210,
   "metadata": {
    "collapsed": true
   },
   "outputs": [],
   "source": [
    "# alg_click = LinearRegression()\n",
    "# alg_click = Lasso(alpha=0.5)\n",
    "# alg_click = ElasticNet(alpha=0.1, l1_ratio=0.7)\n",
    "# alg_click = TheilSenRegressor(random_state=42)\n",
    "# alg_click = HuberRegressor()\n",
    "# alg_click = RANSACRegressor(random_state=42)\n",
    "# alg_click = Ridge(alpha=1.0)\n",
    "# alg_click = RandomForestRegressor(random_state=0, n_estimators=100)\n",
    "# alg_click = ExtraTreesRegressor(n_estimators=10, max_features=10,random_state=0)\n",
    "# alg_click = KNeighborsRegressor()\n",
    "# alg_click = DecisionTreeRegressor()\n",
    "# alg_click = BaggingRegressor(DecisionTreeRegressor())\n",
    "# alg_click = AdaBoostRegressor(DecisionTreeRegressor(max_depth=4),n_estimators=300, random_state=rng)\n",
    "alg_click = GradientBoostingRegressor(n_estimators=500, max_depth=4, min_samples_split=2, learning_rate=0.01, loss= 'ls')"
   ]
  },
  {
   "cell_type": "code",
   "execution_count": 211,
   "metadata": {
    "collapsed": false
   },
   "outputs": [
    {
     "data": {
      "text/plain": [
       "GradientBoostingRegressor(alpha=0.9, criterion='friedman_mse', init=None,\n",
       "             learning_rate=0.01, loss='ls', max_depth=4, max_features=None,\n",
       "             max_leaf_nodes=None, min_impurity_split=1e-07,\n",
       "             min_samples_leaf=1, min_samples_split=2,\n",
       "             min_weight_fraction_leaf=0.0, n_estimators=500,\n",
       "             presort='auto', random_state=None, subsample=1.0, verbose=0,\n",
       "             warm_start=False)"
      ]
     },
     "execution_count": 211,
     "metadata": {},
     "output_type": "execute_result"
    }
   ],
   "source": [
    "alg_click.fit(ydata_train[predictors], ydata_train['clicks'])"
   ]
  },
  {
   "cell_type": "code",
   "execution_count": 212,
   "metadata": {
    "collapsed": true
   },
   "outputs": [],
   "source": [
    "predictions_click = alg_click.predict(ydata_valid[predictors])"
   ]
  },
  {
   "cell_type": "code",
   "execution_count": 213,
   "metadata": {
    "collapsed": false
   },
   "outputs": [
    {
     "name": "stdout",
     "output_type": "stream",
     "text": [
      "Mean Absolute Error : 5.07067341783\n"
     ]
    }
   ],
   "source": [
    "mae_click = mean_absolute_error(ydata_valid['clicks'], predictions_click)\n",
    "print (\"Mean Absolute Error : \" + str(mae_click))"
   ]
  },
  {
   "cell_type": "markdown",
   "metadata": {},
   "source": [
    "### CTR Prediction"
   ]
  },
  {
   "cell_type": "code",
   "execution_count": 309,
   "metadata": {
    "collapsed": true
   },
   "outputs": [],
   "source": [
    "alg_ctr = LinearRegression()\n",
    "# alg_ctr = Lasso(alpha=0.25)\n",
    "# alg_ctr = ElasticNet(alpha=0.08, l1_ratio=0.9)\n",
    "# algt_ctr = TheilSenRegressor(random_state=42)\n",
    "# alg_ctr = HuberRegressor()\n",
    "# alg_ctr = RANSACRegressor(random_state=42)\n",
    "# alg_ctr = Ridge(alpha=1.0)\n",
    "# alg_ctr = RandomForestRegressor(random_state=0, n_estimators=100)\n",
    "# alg_ctr = ExtraTreesRegressor(n_estimators=10, max_features=10,random_state=0)\n",
    "# alg_ctr = KNeighborsRegressor()\n",
    "# alg_ctr = DecisionTreeRegressor()\n",
    "# alg_ctr = BaggingRegressor(DecisionTreeRegressor())\n",
    "# alg_ctr = AdaBoostRegressor(DecisionTreeRegressor(max_depth=4),n_estimators=300, random_state=rng)\n",
    "# alg_ctr = GradientBoostingRegressor(n_estimators=500, max_depth=4, min_samples_split=2, learning_rate=0.01, loss= 'ls')"
   ]
  },
  {
   "cell_type": "code",
   "execution_count": 310,
   "metadata": {
    "collapsed": false
   },
   "outputs": [
    {
     "data": {
      "text/plain": [
       "LinearRegression(copy_X=True, fit_intercept=True, n_jobs=1, normalize=False)"
      ]
     },
     "execution_count": 310,
     "metadata": {},
     "output_type": "execute_result"
    }
   ],
   "source": [
    "alg_ctr.fit(ydata_train[predictors], ydata_train['CTR'])"
   ]
  },
  {
   "cell_type": "code",
   "execution_count": 311,
   "metadata": {
    "collapsed": false
   },
   "outputs": [],
   "source": [
    "predictions_ctr = alg_ctr.predict(ydata_valid[predictors])"
   ]
  },
  {
   "cell_type": "code",
   "execution_count": 312,
   "metadata": {
    "collapsed": false
   },
   "outputs": [
    {
     "name": "stdout",
     "output_type": "stream",
     "text": [
      "Mean Absolute Error : 0.010934250553\n"
     ]
    }
   ],
   "source": [
    "mae_ctr = mean_absolute_error(ydata_valid['CTR'], predictions_ctr)\n",
    "print (\"Mean Absolute Error : \" + str(mae_ctr))"
   ]
  },
  {
   "cell_type": "markdown",
   "metadata": {},
   "source": [
    "======================================================================================================"
   ]
  }
 ],
 "metadata": {
  "kernelspec": {
   "display_name": "Python 2",
   "language": "python",
   "name": "python2"
  },
  "language_info": {
   "codemirror_mode": {
    "name": "ipython",
    "version": 2
   },
   "file_extension": ".py",
   "mimetype": "text/x-python",
   "name": "python",
   "nbconvert_exporter": "python",
   "pygments_lexer": "ipython2",
   "version": "2.7.12"
  }
 },
 "nbformat": 4,
 "nbformat_minor": 1
}
